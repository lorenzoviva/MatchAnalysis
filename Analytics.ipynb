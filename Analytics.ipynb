{
 "cells": [
  {
   "cell_type": "code",
   "execution_count": 1,
   "metadata": {},
   "outputs": [],
   "source": [
    "import json"
   ]
  },
  {
   "cell_type": "code",
   "execution_count": 2,
   "metadata": {},
   "outputs": [],
   "source": [
    "rddElo = sc.textFile(\"hdfs://localhost:9000/user/emo/input/elo/*\")\n",
    "rddSumm = sc.textFile(\"hdfs://localhost:9000/user/emo/input/riot/*\")"
   ]
  },
  {
   "cell_type": "code",
   "execution_count": 47,
   "metadata": {},
   "outputs": [],
   "source": [
    "newRddElo = rddElo.map(lambda line: line.replace(\"\\\\\", \"\\\\\\\\\")) \\\n",
    "                  .map(lambda line: json.loads(line, strict=False)).map(lambda line: (int(line['playerOrTeamId']), (line['tier'], line['rank'])))\n",
    "\n",
    "newRddSumm = rddSumm.map(lambda line: line.replace(\"\\\\\",\"\\\\\\\\\")) \\\n",
    "                    .map(lambda line: json.loads(line,strict=False)).map(lambda line: (int(line['id']), (line['name'], line['summonerLevel'])))\n",
    "    \n",
    "riotJoinRdd = newRddSumm.join(newRddElo).distinct()\n",
    "    \n",
    "#riotJoinRdd.take(5)"
   ]
  },
  {
   "cell_type": "code",
   "execution_count": 15,
   "metadata": {},
   "outputs": [],
   "source": [
    "s = '{ \"_id\" : { \"$oid\" : \"5b536d335abc332c5d6a4ae1\" }, \"leagueId\" : \"be3620b0-0460-11e8-b952-f01fafdb579b\", \"leagueName\" : \"Morgana\\'s Army\", \"tier\" : \"SILVER\", \"queueType\" : \"RANKED_SOLO_5x5\", \"rank\" : \"IV\", \"playerOrTeamId\" : \"43681224\", \"playerOrTeamName\" : \"D\\ufffdX\\x14\\ufffd\", \"leaguePoints\" : 28, \"wins\" : 27, \"losses\" : 36, \"veteran\" : false, \"inactive\" : false, \"freshBlood\" : false, \"hotStreak\" : false }'"
   ]
  },
  {
   "cell_type": "code",
   "execution_count": 38,
   "metadata": {},
   "outputs": [
    {
     "data": {
      "text/plain": [
       "[(23459460, ('Naapo', 28)),\n",
       " (34160621, ('Akatsukiii1', 30)),\n",
       " (87690392, ('Mayo k1ng', 23)),\n",
       " (3306772, ('Zugurt Aga', 30)),\n",
       " (82159365, ('x Gippy', 55))]"
      ]
     },
     "execution_count": 38,
     "metadata": {},
     "output_type": "execute_result"
    }
   ],
   "source": [
    "newRddSumm.take(5)"
   ]
  },
  {
   "cell_type": "code",
   "execution_count": 39,
   "metadata": {},
   "outputs": [
    {
     "data": {
      "text/plain": [
       "[(43681224, ('SILVER', 'IV')),\n",
       " (82159365, ('SILVER', 'III')),\n",
       " (46174537, ('BRONZE', 'IV')),\n",
       " (43705880, ('GOLD', 'V')),\n",
       " (24675815, ('SILVER', 'II'))]"
      ]
     },
     "execution_count": 39,
     "metadata": {},
     "output_type": "execute_result"
    }
   ],
   "source": [
    "newRddElo.take(5)"
   ]
  },
  {
   "cell_type": "code",
   "execution_count": 48,
   "metadata": {},
   "outputs": [
    {
     "data": {
      "text/plain": [
       "[(20765542, (('PistonKosiarz', 91), ('DIAMOND', 'I'))),\n",
       " (7704209, (('%l�|', 50), ('GOLD', 'IV'))),\n",
       " (36716171, (('BeLikeNick', 38), ('GOLD', 'III'))),\n",
       " (93918833, (('veggie shark ', 85), ('SILVER', 'II'))),\n",
       " (36575007, (('QuadtheGod', 123), ('GOLD', 'V'))),\n",
       " (29157634, (('Fresh X', 52), ('SILVER', 'V'))),\n",
       " (6530159, (('Miniduke', 66), ('GOLD', 'V'))),\n",
       " (94056888, (('Palulubu', 116), ('SILVER', 'II'))),\n",
       " (70600741, (('� �', 46), ('PLATINUM', 'IV'))),\n",
       " (20339393, (('DSaya', 105), ('DIAMOND', 'II')))]"
      ]
     },
     "execution_count": 48,
     "metadata": {},
     "output_type": "execute_result"
    }
   ],
   "source": [
    "riotJoinRdd.take(10)"
   ]
  },
  {
   "cell_type": "code",
   "execution_count": 49,
   "metadata": {},
   "outputs": [
    {
     "data": {
      "text/plain": [
       "404"
      ]
     },
     "execution_count": 49,
     "metadata": {},
     "output_type": "execute_result"
    }
   ],
   "source": [
    "riotJoinRdd.count()"
   ]
  },
  {
   "cell_type": "code",
   "execution_count": 58,
   "metadata": {},
   "outputs": [],
   "source": [
    "riotRDD = riotJoinRdd.map(lambda line: (line[1][1][0], (line[1][0][1],1)))\\\n",
    "                     .reduceByKey(lambda a,b: (a[0]+b[0], a[1]+b[1]))\\\n",
    "                     .map(lambda line: (line[0], line[1][0]/line[1][1]))\\\n",
    "                     .saveAsTextFile(\"hdfs://localhost:9000/user/emo/output/AvgLvlPerTier\")"
   ]
  },
  {
   "cell_type": "code",
   "execution_count": 54,
   "metadata": {},
   "outputs": [
    {
     "data": {
      "text/plain": [
       "{'BRONZE': 58.2,\n",
       " 'CHALLENGER': 114.0,\n",
       " 'DIAMOND': 89.70175438596492,\n",
       " 'GOLD': 76.72380952380952,\n",
       " 'MASTER': 100.57142857142857,\n",
       " 'PLATINUM': 82.98630136986301,\n",
       " 'SILVER': 70.62204724409449}"
      ]
     },
     "execution_count": 54,
     "metadata": {},
     "output_type": "execute_result"
    }
   ],
   "source": [
    "riotRDD.collectAsMap()"
   ]
  },
  {
   "cell_type": "code",
   "execution_count": 59,
   "metadata": {},
   "outputs": [],
   "source": [
    "rddStreams = sc.textFile(\"hdfs://localhost:9000/user/emo/input/loltwitchstreams/*\")\n",
    "rddTwUsers = sc.textFile(\"hdfs://localhost:9000/user/emo/input/twitchusers/*\")"
   ]
  },
  {
   "cell_type": "code",
   "execution_count": 85,
   "metadata": {},
   "outputs": [],
   "source": [
    "def try_correct_json(json_string):\n",
    "    try:\n",
    "        t = json.loads(json_string,strict=False)\n",
    "        return t\n",
    "    except ValueError:\n",
    "        try:\n",
    "            try_to_correct_json = json_string + \"}\"\n",
    "            t = json.loads(try_to_correct_json,strict=False)\n",
    "            return t\n",
    "        except ValueError:\n",
    "            return \"parseError\"\n",
    "        \n",
    "        \n",
    "newRddStreams = rddStreams.map(try_correct_json)\\\n",
    "                          .filter(lambda line: line != \"parseError\")\\\n",
    "                          .map(lambda line: (line['user_id'], line['viewer_count']))\n",
    "        #map(lambda line: line.replace(\"\\\\\",\"\\\\\\\\\")) \\\n",
    "newRddTwUsers = rddTwUsers.map(try_correct_json)\\\n",
    "                          .filter(lambda line: line != \"parseError\")\\\n",
    "                          .map(lambda line: (line['id'], line['display_name']))"
   ]
  },
  {
   "cell_type": "code",
   "execution_count": 86,
   "metadata": {},
   "outputs": [
    {
     "data": {
      "text/plain": [
       "[('184804950', 1),\n",
       " ('28365930', 3),\n",
       " ('110350588', 5),\n",
       " ('40237278', 4),\n",
       " ('48130588', 2)]"
      ]
     },
     "execution_count": 86,
     "metadata": {},
     "output_type": "execute_result"
    }
   ],
   "source": [
    "newRddStreams.take(5)"
   ]
  },
  {
   "cell_type": "code",
   "execution_count": 87,
   "metadata": {},
   "outputs": [
    {
     "data": {
      "text/plain": [
       "[('23453248', 'DairySourCream'),\n",
       " ('152904586', 'brunablince'),\n",
       " ('115770266', 'nicebusinko'),\n",
       " ('152363392', 'x�ܤ'),\n",
       " ('60762465', 'LAVASPILLS')]"
      ]
     },
     "execution_count": 87,
     "metadata": {},
     "output_type": "execute_result"
    }
   ],
   "source": [
    "newRddTwUsers.take(5)"
   ]
  },
  {
   "cell_type": "code",
   "execution_count": 88,
   "metadata": {},
   "outputs": [],
   "source": [
    "riotRDD2 = riotJoinRdd.map(lambda line: (line[1][0][0], line[1][1][0]))\n",
    "\n",
    "twitchJoinRdd = newRddTwUsers.join(newRddStreams)\\\n",
    "                             .values()\n",
    "                             \n",
    "finalRDD = riotRDD2.join(twitchJoinRdd)\\\n",
    "                   .values()\\\n",
    "                   .map(lambda line: (line[0], (line[1],1)))\\\n",
    "                   .reduceByKey(lambda a,b: (a[0]+b[0], a[1]+b[1]))\\\n",
    "                   .map(lambda line: (line[0], line[1][0]/line[1][1]))\\\n",
    "                   .collectAsMap()"
   ]
  },
  {
   "cell_type": "code",
   "execution_count": 89,
   "metadata": {},
   "outputs": [
    {
     "data": {
      "text/plain": [
       "{'BRONZE': 487.2608695652174,\n",
       " 'CHALLENGER': 4022.625,\n",
       " 'DIAMOND': 69.92,\n",
       " 'GOLD': 374.38271604938274,\n",
       " 'MASTER': 14.333333333333334,\n",
       " 'PLATINUM': 291.53846153846155,\n",
       " 'SILVER': 1606.2714285714285}"
      ]
     },
     "execution_count": 89,
     "metadata": {},
     "output_type": "execute_result"
    }
   ],
   "source": [
    "finalRDD"
   ]
  },
  {
   "cell_type": "code",
   "execution_count": null,
   "metadata": {},
   "outputs": [],
   "source": []
  }
 ],
 "metadata": {
  "kernelspec": {
   "display_name": "Python 3",
   "language": "python",
   "name": "python3"
  },
  "language_info": {
   "codemirror_mode": {
    "name": "ipython",
    "version": 3
   },
   "file_extension": ".py",
   "mimetype": "text/x-python",
   "name": "python",
   "nbconvert_exporter": "python",
   "pygments_lexer": "ipython3",
   "version": "3.6.4"
  }
 },
 "nbformat": 4,
 "nbformat_minor": 2
}
